{
 "cells": [
  {
   "cell_type": "code",
   "execution_count": 1,
   "id": "ae7b7dfc",
   "metadata": {},
   "outputs": [
    {
     "name": "stdout",
     "output_type": "stream",
     "text": [
      "긍부정 열이 추가된 데이터가 crawl_pfizer_extract_Sentiment.csv 파일로 저장되었습니다.\n"
     ]
    }
   ],
   "source": [
    "import pandas as pd\n",
    "import numpy as np\n",
    "\n",
    "def create_sentiment_dictionary(csv_file):\n",
    "    sentiment_dict = {}\n",
    "    df = pd.read_csv(csv_file)\n",
    "    for index, row in df.iterrows():\n",
    "        word = row['word']\n",
    "        polarity = row['polarity']\n",
    "        sentiment_dict[word] = polarity\n",
    "    return sentiment_dict\n",
    "\n",
    "def calculate_sentiment_score(text, sentiment_dict):\n",
    "    if isinstance(text, str):\n",
    "        words = text.split()\n",
    "        sentiment_score = 0\n",
    "        for word in words:\n",
    "            if word in sentiment_dict:\n",
    "                sentiment_score += sentiment_dict[word]\n",
    "        return sentiment_score\n",
    "    else:\n",
    "        return np.nan\n",
    "\n",
    "# 기존 사전 생성\n",
    "csv_file_dict = '감성 사전.csv'\n",
    "sentiment_dictionary = create_sentiment_dictionary(csv_file_dict)\n",
    "\n",
    "# 새로운 CSV 파일 로드\n",
    "csv_file_new = 'crawl_pfizer_extract.csv'\n",
    "df_new = pd.read_csv(csv_file_new)\n",
    "\n",
    "# \"sentiment\" 컬럼 추가\n",
    "df_new['sentiment'] = df_new['댓글 내용'].apply(lambda x: calculate_sentiment_score(x, sentiment_dictionary))\n",
    "\n",
    "# \"긍부정\" 열 생성\n",
    "df_new['긍부정'] = np.where(df_new['sentiment'] > 0, 1, np.where(df_new['sentiment'] < 0, -1, 0))\n",
    "\n",
    "# 결과를 새로운 CSV 파일로 저장 (UTF-8-SIG 인코딩)\n",
    "output_csv_file = csv_file_new.split('.')[0] + '_Sentiment.csv'\n",
    "df_new.to_csv(output_csv_file, index=False, encoding='utf-8-sig')\n",
    "\n",
    "print(\"긍부정 열이 추가된 데이터가 {} 파일로 저장되었습니다.\".format(output_csv_file))\n"
   ]
  },
  {
   "cell_type": "code",
   "execution_count": 12,
   "id": "a17f07b6",
   "metadata": {},
   "outputs": [],
   "source": [
    "import pandas as pd\n",
    "import os\n",
    "\n",
    "file_path = \"crawl_Janssen_extract_Sentiment.csv\"\n",
    "file_name = os.path.splitext(file_path)[0]  # 파일명에서 확장자 제거\n",
    "\n",
    "data = pd.read_csv(file_path)\n",
    "\n",
    "data = data.rename(columns={\"긍부정\": \"긍정\"})\n",
    "positive_data = data[data[\"긍정\"] == 1]\n",
    "\n",
    "new_file_name = file_name + \"_pos_data.csv\"\n",
    "\n",
    "positive_data.to_csv(new_file_name, index=False, encoding=\"utf-8-sig\")\n"
   ]
  }
 ],
 "metadata": {
  "kernelspec": {
   "display_name": "Python [conda env:tf_cpu] *",
   "language": "python",
   "name": "conda-env-tf_cpu-py"
  },
  "language_info": {
   "codemirror_mode": {
    "name": "ipython",
    "version": 3
   },
   "file_extension": ".py",
   "mimetype": "text/x-python",
   "name": "python",
   "nbconvert_exporter": "python",
   "pygments_lexer": "ipython3",
   "version": "3.8.16"
  }
 },
 "nbformat": 4,
 "nbformat_minor": 5
}
